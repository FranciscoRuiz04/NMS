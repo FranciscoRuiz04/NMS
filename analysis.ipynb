{
 "cells": [
  {
   "cell_type": "code",
   "execution_count": null,
   "metadata": {},
   "outputs": [],
   "source": [
    "import kmlparser as parser\n",
    "import monthly\n",
    "from geopandas import read_file\n",
    "import pandas as pd\n",
    "\n",
    "import seaborn as sb\n",
    "import matplotlib.pyplot as plt\n",
    "import matplotlib as mpl"
   ]
  },
  {
   "cell_type": "markdown",
   "metadata": {},
   "source": [
    "# Prepare Data"
   ]
  },
  {
   "cell_type": "markdown",
   "metadata": {},
   "source": [
    "First, let's parse the *kml* file which has the URLs to the statistics HTML file. For that is neccessary to pass a `pd.Series` type object with the respective station points into `seekData()` function."
   ]
  },
  {
   "cell_type": "code",
   "execution_count": 2,
   "metadata": {},
   "outputs": [],
   "source": [
    "kmlFile = r'KML_unzipped\\doc.kml'\n",
    "pointsFile = r'Gto\\stats_itrf92\\stats_itrf92.shp'\n",
    "\n",
    "vectorPoints = read_file(pointsFile)\n",
    "stats = vectorPoints.Name"
   ]
  },
  {
   "cell_type": "markdown",
   "metadata": {},
   "source": [
    "Now, we're going to scrape the _**xml**_ content from _**kml**_ file to get the URL that will take us to statistics HTML file for the desired period passed. Once the link has been recovered, a new folder created by default into the current working directory named **RawData** will contain one __txt__ file for each station. There will exists the same data than we could find in the **National Meteorological Service**  official web page.\n",
    "\n",
    "If you want to change the root and folder name container, just pass `directory` argument into the parser with the desired path."
   ]
  },
  {
   "cell_type": "code",
   "execution_count": 3,
   "metadata": {},
   "outputs": [],
   "source": [
    "parser.seekData(kmlFile, pointsFile, period='MENSUALES', directory='RD_ProcessChunk')"
   ]
  },
  {
   "cell_type": "markdown",
   "metadata": {},
   "source": [
    "## Create DB"
   ]
  },
  {
   "cell_type": "markdown",
   "metadata": {},
   "source": [
    "Create a **shelve** file with the raw data sorted by topic; that is, the kind of meteorological variable (e.g. Maximum Temperature, Averaged Precipitation)"
   ]
  },
  {
   "cell_type": "code",
   "execution_count": 4,
   "metadata": {},
   "outputs": [],
   "source": [
    "monthly.createDB('RawData')"
   ]
  },
  {
   "cell_type": "markdown",
   "metadata": {},
   "source": [
    "# Determinate year range"
   ]
  },
  {
   "cell_type": "markdown",
   "metadata": {},
   "source": [
    "Load pre-structured data by topic of interest. `loadData()` function provides all the valid variable values for its `variable` argument."
   ]
  },
  {
   "cell_type": "code",
   "execution_count": 9,
   "metadata": {},
   "outputs": [
    {
     "name": "stdout",
     "output_type": "stream",
     "text": [
      "pmax24: 9736 records\n",
      "p: 9736 records\n",
      "evo: 6611 records\n",
      "tmax_x: 9400 records\n",
      "tmax_mean: 9400 records\n",
      "tmin_x: 9398 records\n",
      "tmin_mean: 9398 records\n",
      "t: 9393 records\n"
     ]
    }
   ],
   "source": [
    "for var in monthly.__topics__:\n",
    "    df = monthly.loadData(var)\n",
    "    print(\"%s: %i records\" % (var, df.shape[0]))"
   ]
  },
  {
   "cell_type": "code",
   "execution_count": null,
   "metadata": {},
   "outputs": [],
   "source": [
    "p = monthly.loadData('p')\n",
    "\n",
    "p.year = p.year.astype('int')\n",
    "# t.year = t.year.astype('int')\n",
    "# tmin.year = tmin.year.astype('int')\n",
    "# tmax.year = tmax.year.astype('int')\n",
    "\n",
    "p.months_amount = p.months_amount.astype('int')\n",
    "# t.months_amount = t.months_amount.astype('int')\n",
    "# tmin.months_amount = tmin.months_amount.astype('int')\n",
    "# tmax.months_amount = tmax.months_amount.astype('int')\n",
    "\n",
    "p.stat = p.stat.astype('int')\n",
    "\n",
    "y_label = p.stat.unique()\n",
    "x_label = range(p.year.min(), p.year.max() + 1)\n",
    "data = pd.DataFrame({'year': p.year, 'stat':p.stat})\n",
    "\n",
    "mx, mn = y_label.max(), y_label.min()\n",
    "class1 = data.query('@mn <= stat < 12000')\n",
    "class2 = data.query('%i < stat < 16000' % class1.stat.max())\n",
    "class3 = data.query('%i < stat < 18000' % class2.stat.max())\n",
    "class4 = data.query('%i < stat < 24000' % class3.stat.max())\n",
    "class5 = data.query('%i < stat <= @mx' % class4.stat.max())\n",
    "\n",
    "plots = class1, class2, class3, class4, class5\n",
    "sb.set_style('darkgrid')\n",
    "fig, axs = plt.subplots(nrows=5, tight_layout=True)\n",
    "fig.set_size_inches(15, 50, True)\n",
    "for i,plot in enumerate(plots):\n",
    "    stats = plot.stat.unique()\n",
    "    for stat in stats:\n",
    "        filtered = plot[plot.stat == stat]\n",
    "        if not filtered.empty:\n",
    "            axs[i].scatter(filtered.year, filtered.stat)\n",
    "    axs[i].set_ylim(ymin=stats.min(), ymax=stats.max())\n",
    "    axs[i].set_xlim(xmin=1980, xmax=2021)\n",
    "    axs[i].set_xlabel('Año')\n",
    "    axs[i].set_ylabel('Estación')\n",
    "plt.show()"
   ]
  },
  {
   "cell_type": "markdown",
   "metadata": {},
   "source": [
    "As we can see in the graphs the mayor amount of stations with at least one available record falls within **1980** to **2020**. Therefore, let's now filter the stations considering a tolerance for missing records (MR) per station."
   ]
  },
  {
   "cell_type": "markdown",
   "metadata": {},
   "source": [
    "# Filtering by a tolerance"
   ]
  },
  {
   "cell_type": "code",
   "execution_count": 5,
   "metadata": {},
   "outputs": [],
   "source": [
    "p = monthly.loadData('p')\n",
    "t = monthly.loadData('t')\n",
    "tmin = monthly.loadData('tmin_mean')\n",
    "tmax = monthly.loadData('tmax_mean')"
   ]
  },
  {
   "cell_type": "code",
   "execution_count": 6,
   "metadata": {},
   "outputs": [],
   "source": [
    "p.year = p.year.astype('int')\n",
    "t.year = t.year.astype('int')\n",
    "tmin.year = tmin.year.astype('int')\n",
    "tmax.year = tmax.year.astype('int')\n",
    "\n",
    "p.months_amount = p.months_amount.astype('int')\n",
    "t.months_amount = t.months_amount.astype('int')\n",
    "tmin.months_amount = tmin.months_amount.astype('int')\n",
    "tmax.months_amount = tmax.months_amount.astype('int')"
   ]
  },
  {
   "cell_type": "markdown",
   "metadata": {},
   "source": [
    "First of all, select records between 1981 and 2016 for each variable."
   ]
  },
  {
   "cell_type": "code",
   "execution_count": 12,
   "metadata": {},
   "outputs": [],
   "source": [
    "p5 = p.query('1981 <= year <= 2015')\n",
    "t5 = t.query('1981 <= year <= 2015')\n",
    "tmin5 = tmin.query('1981 <= year <= 2015')\n",
    "tmax5 = tmax.query('1981 <= year <= 2015')"
   ]
  },
  {
   "cell_type": "markdown",
   "metadata": {},
   "source": [
    "Select stations in common for all the varibles."
   ]
  },
  {
   "cell_type": "code",
   "execution_count": 13,
   "metadata": {},
   "outputs": [
    {
     "name": "stdout",
     "output_type": "stream",
     "text": [
      "195 stations in common\n"
     ]
    }
   ],
   "source": [
    "common_stats = set(p5.stat.unique()).intersection(t5.stat.unique()).intersection(tmin5.stat.unique()).intersection(tmax5.stat.unique())\n",
    "\n",
    "cols2drop = ['acum', 'mean']\n",
    "p_filtered = p5[p5.stat.isin(common_stats)].drop(cols2drop, axis=1)\n",
    "t_filtered = t5[t5.stat.isin(common_stats)].drop(cols2drop, axis=1)\n",
    "tmin_filtered = tmin5[tmin5.stat.isin(common_stats)].drop(cols2drop, axis=1)\n",
    "tmax_filtered = tmax5[tmax5.stat.isin(common_stats)].drop(cols2drop, axis=1)\n",
    "\n",
    "print(f\"{common_stats.__len__()} stations in common\")"
   ]
  },
  {
   "cell_type": "markdown",
   "metadata": {},
   "source": [
    "Get the total number of months with data. For that, let's create a new DataFrame with the number of months with data for each variable considered. And then, get the sum among all this amounts to get a total months amount"
   ]
  },
  {
   "cell_type": "code",
   "execution_count": 14,
   "metadata": {},
   "outputs": [
    {
     "data": {
      "text/html": [
       "<div>\n",
       "<style scoped>\n",
       "    .dataframe tbody tr th:only-of-type {\n",
       "        vertical-align: middle;\n",
       "    }\n",
       "\n",
       "    .dataframe tbody tr th {\n",
       "        vertical-align: top;\n",
       "    }\n",
       "\n",
       "    .dataframe thead th {\n",
       "        text-align: right;\n",
       "    }\n",
       "</style>\n",
       "<table border=\"1\" class=\"dataframe\">\n",
       "  <thead>\n",
       "    <tr style=\"text-align: right;\">\n",
       "      <th></th>\n",
       "      <th>totals</th>\n",
       "    </tr>\n",
       "    <tr>\n",
       "      <th>year</th>\n",
       "      <th></th>\n",
       "    </tr>\n",
       "  </thead>\n",
       "  <tbody>\n",
       "    <tr>\n",
       "      <th>1981</th>\n",
       "      <td>5070.0</td>\n",
       "    </tr>\n",
       "    <tr>\n",
       "      <th>1982</th>\n",
       "      <td>5200.0</td>\n",
       "    </tr>\n",
       "    <tr>\n",
       "      <th>1983</th>\n",
       "      <td>5148.0</td>\n",
       "    </tr>\n",
       "    <tr>\n",
       "      <th>1984</th>\n",
       "      <td>5164.0</td>\n",
       "    </tr>\n",
       "    <tr>\n",
       "      <th>1985</th>\n",
       "      <td>5054.0</td>\n",
       "    </tr>\n",
       "    <tr>\n",
       "      <th>1986</th>\n",
       "      <td>4770.0</td>\n",
       "    </tr>\n",
       "    <tr>\n",
       "      <th>1987</th>\n",
       "      <td>4747.0</td>\n",
       "    </tr>\n",
       "    <tr>\n",
       "      <th>1988</th>\n",
       "      <td>4786.0</td>\n",
       "    </tr>\n",
       "    <tr>\n",
       "      <th>1989</th>\n",
       "      <td>4591.0</td>\n",
       "    </tr>\n",
       "    <tr>\n",
       "      <th>1990</th>\n",
       "      <td>4293.0</td>\n",
       "    </tr>\n",
       "    <tr>\n",
       "      <th>1991</th>\n",
       "      <td>4185.0</td>\n",
       "    </tr>\n",
       "    <tr>\n",
       "      <th>1992</th>\n",
       "      <td>4106.0</td>\n",
       "    </tr>\n",
       "    <tr>\n",
       "      <th>1993</th>\n",
       "      <td>3992.0</td>\n",
       "    </tr>\n",
       "    <tr>\n",
       "      <th>1994</th>\n",
       "      <td>3883.0</td>\n",
       "    </tr>\n",
       "    <tr>\n",
       "      <th>1995</th>\n",
       "      <td>4088.0</td>\n",
       "    </tr>\n",
       "    <tr>\n",
       "      <th>1996</th>\n",
       "      <td>3980.0</td>\n",
       "    </tr>\n",
       "    <tr>\n",
       "      <th>1997</th>\n",
       "      <td>3994.0</td>\n",
       "    </tr>\n",
       "    <tr>\n",
       "      <th>1998</th>\n",
       "      <td>3900.0</td>\n",
       "    </tr>\n",
       "    <tr>\n",
       "      <th>1999</th>\n",
       "      <td>3686.0</td>\n",
       "    </tr>\n",
       "    <tr>\n",
       "      <th>2000</th>\n",
       "      <td>3945.0</td>\n",
       "    </tr>\n",
       "    <tr>\n",
       "      <th>2001</th>\n",
       "      <td>3970.0</td>\n",
       "    </tr>\n",
       "    <tr>\n",
       "      <th>2002</th>\n",
       "      <td>3990.0</td>\n",
       "    </tr>\n",
       "    <tr>\n",
       "      <th>2003</th>\n",
       "      <td>3926.0</td>\n",
       "    </tr>\n",
       "    <tr>\n",
       "      <th>2004</th>\n",
       "      <td>3683.0</td>\n",
       "    </tr>\n",
       "    <tr>\n",
       "      <th>2005</th>\n",
       "      <td>3949.0</td>\n",
       "    </tr>\n",
       "    <tr>\n",
       "      <th>2006</th>\n",
       "      <td>4005.0</td>\n",
       "    </tr>\n",
       "    <tr>\n",
       "      <th>2007</th>\n",
       "      <td>3891.0</td>\n",
       "    </tr>\n",
       "    <tr>\n",
       "      <th>2008</th>\n",
       "      <td>4007.0</td>\n",
       "    </tr>\n",
       "    <tr>\n",
       "      <th>2009</th>\n",
       "      <td>3834.0</td>\n",
       "    </tr>\n",
       "    <tr>\n",
       "      <th>2010</th>\n",
       "      <td>4014.0</td>\n",
       "    </tr>\n",
       "    <tr>\n",
       "      <th>2011</th>\n",
       "      <td>4062.0</td>\n",
       "    </tr>\n",
       "    <tr>\n",
       "      <th>2012</th>\n",
       "      <td>4042.0</td>\n",
       "    </tr>\n",
       "    <tr>\n",
       "      <th>2013</th>\n",
       "      <td>4092.0</td>\n",
       "    </tr>\n",
       "    <tr>\n",
       "      <th>2014</th>\n",
       "      <td>4154.0</td>\n",
       "    </tr>\n",
       "    <tr>\n",
       "      <th>2015</th>\n",
       "      <td>4251.0</td>\n",
       "    </tr>\n",
       "  </tbody>\n",
       "</table>\n",
       "</div>"
      ],
      "text/plain": [
       "      totals\n",
       "year        \n",
       "1981  5070.0\n",
       "1982  5200.0\n",
       "1983  5148.0\n",
       "1984  5164.0\n",
       "1985  5054.0\n",
       "1986  4770.0\n",
       "1987  4747.0\n",
       "1988  4786.0\n",
       "1989  4591.0\n",
       "1990  4293.0\n",
       "1991  4185.0\n",
       "1992  4106.0\n",
       "1993  3992.0\n",
       "1994  3883.0\n",
       "1995  4088.0\n",
       "1996  3980.0\n",
       "1997  3994.0\n",
       "1998  3900.0\n",
       "1999  3686.0\n",
       "2000  3945.0\n",
       "2001  3970.0\n",
       "2002  3990.0\n",
       "2003  3926.0\n",
       "2004  3683.0\n",
       "2005  3949.0\n",
       "2006  4005.0\n",
       "2007  3891.0\n",
       "2008  4007.0\n",
       "2009  3834.0\n",
       "2010  4014.0\n",
       "2011  4062.0\n",
       "2012  4042.0\n",
       "2013  4092.0\n",
       "2014  4154.0\n",
       "2015  4251.0"
      ]
     },
     "execution_count": 14,
     "metadata": {},
     "output_type": "execute_result"
    }
   ],
   "source": [
    "data = p_filtered[['year', 'months_amount']].join(t_filtered[['months_amount']].add_suffix('_t')).join(tmin_filtered[['months_amount']].add_suffix('_tmin')).join(tmax_filtered[['months_amount']].add_suffix('_tmax'))\n",
    "new = data.groupby('year').sum()\n",
    "new['totals'] = new.apply(lambda record: record.sum(), axis=1)\n",
    "full = new[['totals']]\n",
    "full\n"
   ]
  },
  {
   "cell_type": "markdown",
   "metadata": {},
   "source": [
    "## Amount of Records per Station"
   ]
  },
  {
   "cell_type": "code",
   "execution_count": 17,
   "metadata": {},
   "outputs": [
    {
     "data": {
      "text/html": [
       "<div>\n",
       "<style scoped>\n",
       "    .dataframe tbody tr th:only-of-type {\n",
       "        vertical-align: middle;\n",
       "    }\n",
       "\n",
       "    .dataframe tbody tr th {\n",
       "        vertical-align: top;\n",
       "    }\n",
       "\n",
       "    .dataframe thead th {\n",
       "        text-align: right;\n",
       "    }\n",
       "</style>\n",
       "<table border=\"1\" class=\"dataframe\">\n",
       "  <thead>\n",
       "    <tr style=\"text-align: right;\">\n",
       "      <th></th>\n",
       "      <th>totals</th>\n",
       "    </tr>\n",
       "    <tr>\n",
       "      <th>stat</th>\n",
       "      <th></th>\n",
       "    </tr>\n",
       "  </thead>\n",
       "  <tbody>\n",
       "    <tr>\n",
       "      <th>11001</th>\n",
       "      <td>74.226190</td>\n",
       "    </tr>\n",
       "    <tr>\n",
       "      <th>11002</th>\n",
       "      <td>74.285714</td>\n",
       "    </tr>\n",
       "    <tr>\n",
       "      <th>11003</th>\n",
       "      <td>72.440476</td>\n",
       "    </tr>\n",
       "    <tr>\n",
       "      <th>11004</th>\n",
       "      <td>47.142857</td>\n",
       "    </tr>\n",
       "    <tr>\n",
       "      <th>11005</th>\n",
       "      <td>52.678571</td>\n",
       "    </tr>\n",
       "    <tr>\n",
       "      <th>11006</th>\n",
       "      <td>51.250000</td>\n",
       "    </tr>\n",
       "    <tr>\n",
       "      <th>11007</th>\n",
       "      <td>51.845238</td>\n",
       "    </tr>\n",
       "    <tr>\n",
       "      <th>11008</th>\n",
       "      <td>12.202381</td>\n",
       "    </tr>\n",
       "    <tr>\n",
       "      <th>11009</th>\n",
       "      <td>40.892857</td>\n",
       "    </tr>\n",
       "    <tr>\n",
       "      <th>11010</th>\n",
       "      <td>48.392857</td>\n",
       "    </tr>\n",
       "  </tbody>\n",
       "</table>\n",
       "</div>"
      ],
      "text/plain": [
       "          totals\n",
       "stat            \n",
       "11001  74.226190\n",
       "11002  74.285714\n",
       "11003  72.440476\n",
       "11004  47.142857\n",
       "11005  52.678571\n",
       "11006  51.250000\n",
       "11007  51.845238\n",
       "11008  12.202381\n",
       "11009  40.892857\n",
       "11010  48.392857"
      ]
     },
     "execution_count": 17,
     "metadata": {},
     "output_type": "execute_result"
    }
   ],
   "source": [
    "data = p_filtered[['stat', 'months_amount']].join(t_filtered[['months_amount']].add_suffix('_t')).join(tmin_filtered[['months_amount']].add_suffix('_tmin')).join(tmax_filtered[['months_amount']].add_suffix('_tmax'))\n",
    "\n",
    "new = data.groupby('stat').sum()\n",
    "new['totals'] = new.apply(lambda record: record.sum(), axis=1)\n",
    "full = new[['totals']].applymap(lambda value: value*100/1680)\n",
    "# full['totals'].mode()\n",
    "# full['totals'].std()\n",
    "\n",
    "full.head(10)"
   ]
  },
  {
   "cell_type": "markdown",
   "metadata": {},
   "source": [
    "# Display Stations on Map"
   ]
  },
  {
   "cell_type": "code",
   "execution_count": 58,
   "metadata": {},
   "outputs": [
    {
     "data": {
      "text/plain": [
       "<AxesSubplot: >"
      ]
     },
     "execution_count": 58,
     "metadata": {},
     "output_type": "execute_result"
    },
    {
     "data": {
      "image/png": "[encoded data removed]",
      "text/plain": [
       "<Figure size 640x480 with 1 Axes>"
      ]
     },
     "metadata": {},
     "output_type": "display_data"
    }
   ],
   "source": [
    "wanted = full[full.totals >= 88.6].index.astype(int).tolist()\n",
    "vectorPoints['Name'] = vectorPoints['Name'].astype(int)\n",
    "\n",
    "ps = vectorPoints[vectorPoints.Name.isin(wanted)]\n",
    "gto = read_file(r'Gto\\11ent.shp')\n",
    "fig, ax = plt.subplots()\n",
    "gto.plot(ax=ax)\n",
    "ps.plot(color='red', ax=ax)\n"
   ]
  },
  {
   "cell_type": "markdown",
   "metadata": {},
   "source": [
    "# Histogram"
   ]
  },
  {
   "cell_type": "code",
   "execution_count": 80,
   "metadata": {},
   "outputs": [
    {
     "data": {
      "text/plain": [
       "<matplotlib.lines.Line2D at 0x27fb7ee9910>"
      ]
     },
     "execution_count": 80,
     "metadata": {},
     "output_type": "execute_result"
    },
    {
     "data": {
      "image/png": "[encoded data removed]",
      "text/plain": [
       "<Figure size 1500x1000 with 1 Axes>"
      ]
     },
     "metadata": {},
     "output_type": "display_data"
    }
   ],
   "source": [
    "sb.set_style('darkgrid')\n",
    "fig, ax = plt.subplots()\n",
    "fig.set_size_inches(15, 10, True)\n",
    "sb.barplot(x=full.index, y=full['totals'], ax=ax)\n",
    "ax.xaxis.set_ticklabels([])\n",
    "ax.set_xlabel('Estaciones Meteorológicas')\n",
    "ax.set_ylabel('%')\n",
    "ax.set_title('Porcentaje de Datos por Estación Meteorológica para el periodo de 1980 - 2020', fontweight = 'bold')\n",
    "ax.text(10, 90, 'Moda: 88.6%', color='red', fontsize=12,\n",
    "        horizontalalignment='center', verticalalignment='bottom', fontweight='bold')\n",
    "\n",
    "ax.axhline(y=88.6, color='r', linestyle='--', linewidth=2)\n",
    "\n",
    "\n",
    "\n",
    "# filtered_groups = months_per_stat.filter(lambda x: x['months_amount'].sum() > 468).groupby('stat').sum()"
   ]
  },
  {
   "cell_type": "markdown",
   "metadata": {},
   "source": [
    "# Export Selected Stations"
   ]
  },
  {
   "cell_type": "code",
   "execution_count": 27,
   "metadata": {},
   "outputs": [],
   "source": [
    "winners = full.index.tolist()\n",
    "\n",
    "precipitacion = p[p.stat.isin(winners)]\n",
    "tmean = t[t.stat.isin(winners)]\n",
    "tmin = tmin[tmin.stat.isin(winners)]\n",
    "tmax = tmax[tmax.stat.isin(winners)]\n",
    "\n",
    "glosary = dict(p=p, t=t, tmin=tmin, tmax=tmax)\n",
    "\n",
    "for variable in glosary.keys():\n",
    "    data = glosary[variable][glosary[variable].stat.isin(winners)].query('1981 <= year <= 2015')\n",
    "    data.to_csv(f\"Delivery//{variable}.csv\", encoding='utf-8', index=False)"
   ]
  }
 ],
 "metadata": {
  "kernelspec": {
   "display_name": "Python 3",
   "language": "python",
   "name": "python3"
  },
  "language_info": {
   "codemirror_mode": {
    "name": "ipython",
    "version": 3
   },
   "file_extension": ".py",
   "mimetype": "text/x-python",
   "name": "python",
   "nbconvert_exporter": "python",
   "pygments_lexer": "ipython3",
   "version": "3.9.6"
  }
 },
 "nbformat": 4,
 "nbformat_minor": 2
}
